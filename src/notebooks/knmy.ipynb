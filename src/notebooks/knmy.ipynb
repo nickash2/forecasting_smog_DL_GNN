{
 "cells": [
  {
   "cell_type": "markdown",
   "metadata": {},
   "source": [
    "##### **Collect data from KNMI using knmy package**"
   ]
  },
  {
   "cell_type": "markdown",
   "metadata": {},
   "source": [
    "Update: did not use this in the end, but downloaded it manually from https://www.daggegevens.knmi.nl/klimatologie/uurgegevens"
   ]
  },
  {
   "cell_type": "code",
   "execution_count": 5,
   "metadata": {},
   "outputs": [],
   "source": [
    "from knmy import knmy\n",
    "from datetime import datetime\n",
    "import pandas as pd"
   ]
  },
  {
   "cell_type": "code",
   "execution_count": 6,
   "metadata": {},
   "outputs": [],
   "source": [
    "# KNMY GitHub: https://github.com/barthoekstra/knmy/tree/master\n",
    "# KNMY Documentation: https://knmy.readthedocs.io/en/latest/\n",
    "\n",
    "\n",
    "SM = 7  # Starting month\n",
    "SD = 1  # Starting day\n",
    "EM = 12  # Ending month\n",
    "ED = 30 # Ending day\n",
    "\n",
    "\n",
    "# req_variables = ['WIND', 'TEMP', 'SUNR', 'PRCP', 'PRES', 'VICL', 'MSTR']\n",
    "\n",
    "# req_variables = ['ALL']\n",
    "\n",
    "# Define cities and their stations\n",
    "cities = {\n",
    "    # 'Utrecht': [260],      # De Bilt\n",
    "    # 'Rotterdam': [344],    # Rotterdam\n",
    "    'Amsterdam': [240],   # Lelystad\n",
    "    # Add new cities here: 'CityName': [station_id]\n",
    "}\n",
    "\n",
    "\n",
    "years = [2016, 2017, 2018, 2019, 2020, 2021, 2022, 2023]\n"
   ]
  },
  {
   "cell_type": "code",
   "execution_count": 7,
   "metadata": {},
   "outputs": [
    {
     "name": "stdout",
     "output_type": "stream",
     "text": [
      "Processing Amsterdam...\n",
      "Saved Amsterdam data with shape (4416, 25) of year 2016\n",
      "Processing Amsterdam...\n",
      "Saved Amsterdam data with shape (4416, 25) of year 2017\n",
      "Processing Amsterdam...\n",
      "Saved Amsterdam data with shape (4416, 25) of year 2018\n",
      "Processing Amsterdam...\n",
      "Saved Amsterdam data with shape (4416, 25) of year 2019\n",
      "Processing Amsterdam...\n",
      "Saved Amsterdam data with shape (4416, 25) of year 2020\n",
      "Processing Amsterdam...\n",
      "Saved Amsterdam data with shape (4416, 25) of year 2021\n",
      "Processing Amsterdam...\n",
      "Saved Amsterdam data with shape (4416, 25) of year 2022\n",
      "Processing Amsterdam...\n",
      "Saved Amsterdam data with shape (4416, 25) of year 2023\n"
     ]
    }
   ],
   "source": [
    "import time\n",
    "from requests.exceptions import HTTPError\n",
    "\n",
    "years = [2016, 2017, 2018, 2019, 2020, 2021, 2022, 2023]\n",
    "\n",
    "# Define all variable groups we want\n",
    "req_variables = ['WIND', 'TEMP', 'SUNR', 'PRCP', 'PRES', 'VICL', 'MSTR']\n",
    "\n",
    "def fetch_with_retry(year, city, stations, max_retries=3):\n",
    "    for attempt in range(max_retries):\n",
    "        try:\n",
    "            s_moment = datetime(year, SM, SD, 0)\n",
    "            e_moment = datetime(year, EM, ED, 23)\n",
    "            \n",
    "            # Fetch data\n",
    "            disclaimer, stations, variables, data = knmy.get_knmi_data(\n",
    "                type='hourly',\n",
    "                stations=stations,\n",
    "                start=s_moment,\n",
    "                # variables=req_variables,\n",
    "                end=e_moment,\n",
    "                inseason=False,\n",
    "                parse=True\n",
    "            )\n",
    "            \n",
    "            return data\n",
    "            \n",
    "        except HTTPError as e:\n",
    "            if attempt == max_retries - 1:  # Last attempt\n",
    "                print(f\"Failed to fetch data for {city} {year} after {max_retries} attempts: {e}\")\n",
    "                raise\n",
    "            print(f\"Attempt {attempt + 1} failed, retrying after delay...\")\n",
    "            time.sleep(5 * (attempt + 1))  # Increasing delay between retries\n",
    "            \n",
    "for year in years:\n",
    "    for city, stations in cities.items():\n",
    "        print(f\"Processing {city}...\")\n",
    "        try:\n",
    "            data = fetch_with_retry(year, city, stations)\n",
    "            \n",
    "            # Handle duplicate columns and save\n",
    "            data = data.loc[:, ~data.columns.duplicated()]\n",
    "            data.to_csv(\n",
    "                f\"../../data/data_raw/{year}_meteo_{city}.csv\", \n",
    "                index=True, \n",
    "                sep=';', \n",
    "                decimal='.', \n",
    "                encoding='utf-8'\n",
    "            )\n",
    "            print(f\"Saved {city} data with shape {data.shape} of year {year}\")\n",
    "            \n",
    "            # Add delay between cities\n",
    "            time.sleep(2)\n",
    "            \n",
    "        except Exception as e:\n",
    "            print(f\"Error processing {city} for {year}: {str(e)}\")\n",
    "            continue\n",
    "        \n",
    "        # Add delay between years\n",
    "        time.sleep(1)"
   ]
  }
 ],
 "metadata": {
  "kernelspec": {
   "display_name": ".venv",
   "language": "python",
   "name": "python3"
  },
  "language_info": {
   "codemirror_mode": {
    "name": "ipython",
    "version": 3
   },
   "file_extension": ".py",
   "mimetype": "text/x-python",
   "name": "python",
   "nbconvert_exporter": "python",
   "pygments_lexer": "ipython3",
   "version": "3.10.13"
  }
 },
 "nbformat": 4,
 "nbformat_minor": 2
}
